{
 "cells": [
  {
   "cell_type": "code",
   "execution_count": 1,
   "metadata": {},
   "outputs": [
    {
     "name": "stdout",
     "output_type": "stream",
     "text": [
      "banana\n"
     ]
    }
   ],
   "source": [
    "tuple = (\"apple\", \"banana\", \"cherry\")\n",
    "print(tuple[1])"
   ]
  },
  {
   "cell_type": "code",
   "execution_count": 2,
   "metadata": {},
   "outputs": [
    {
     "name": "stdout",
     "output_type": "stream",
     "text": [
      "Yes, '58' is in the number tuple\n"
     ]
    }
   ],
   "source": [
    "numbertuple = (\"45\", \"66\", \"58\")\n",
    "if \"58\" in numbertuple:\n",
    "  print(\"Yes, '58' is in the number tuple\")"
   ]
  },
  {
   "cell_type": "code",
   "execution_count": 5,
   "metadata": {},
   "outputs": [
    {
     "name": "stdout",
     "output_type": "stream",
     "text": [
      "{'name': 'swati', 'course': 'b.tech', 'year': 1999}\n"
     ]
    }
   ],
   "source": [
    "thisdict =\t{\n",
    "  \"name\": \"swati\",\n",
    "  \"course\": \"b.tech\",\n",
    "  \"year\": 2018-19\n",
    "}\n",
    "print(thisdict)"
   ]
  },
  {
   "cell_type": "code",
   "execution_count": 6,
   "metadata": {},
   "outputs": [
    {
     "name": "stdout",
     "output_type": "stream",
     "text": [
      "name swati\n",
      "course b.tech\n",
      "year 1999\n"
     ]
    }
   ],
   "source": [
    "for x, y in thisdict.items():\n",
    "  print(x, y)"
   ]
  },
  {
   "cell_type": "code",
   "execution_count": 8,
   "metadata": {},
   "outputs": [
    {
     "name": "stdout",
     "output_type": "stream",
     "text": [
      "{'name': 'swati', 'course': 'b.tech', 'year': 1999}\n",
      "{'name': 'swati', 'course': 'b.tech'}\n"
     ]
    }
   ],
   "source": [
    "thisdict =\t{\n",
    "  \"name\": \"swati\",\n",
    "  \"course\": \"b.tech\",\n",
    "  \"year\": 2018-19\n",
    "}\n",
    "print(thisdict)\n",
    "thisdict.popitem()\n",
    "print(thisdict)"
   ]
  }
 ],
 "metadata": {
  "kernelspec": {
   "display_name": "Python 3",
   "language": "python",
   "name": "python3"
  },
  "language_info": {
   "codemirror_mode": {
    "name": "ipython",
    "version": 3
   },
   "file_extension": ".py",
   "mimetype": "text/x-python",
   "name": "python",
   "nbconvert_exporter": "python",
   "pygments_lexer": "ipython3",
   "version": "3.7.3"
  }
 },
 "nbformat": 4,
 "nbformat_minor": 2
}
